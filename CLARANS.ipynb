{
 "cells": [
  {
   "cell_type": "code",
   "execution_count": 1,
   "id": "fd6beacb",
   "metadata": {},
   "outputs": [],
   "source": [
    "#required to read and data cleaning tasks on csv file\n",
    "import pandas as pd "
   ]
  },
  {
   "cell_type": "code",
   "execution_count": 2,
   "id": "da3c8322",
   "metadata": {},
   "outputs": [
    {
     "data": {
      "text/html": [
       "<div>\n",
       "<style scoped>\n",
       "    .dataframe tbody tr th:only-of-type {\n",
       "        vertical-align: middle;\n",
       "    }\n",
       "\n",
       "    .dataframe tbody tr th {\n",
       "        vertical-align: top;\n",
       "    }\n",
       "\n",
       "    .dataframe thead th {\n",
       "        text-align: right;\n",
       "    }\n",
       "</style>\n",
       "<table border=\"1\" class=\"dataframe\">\n",
       "  <thead>\n",
       "    <tr style=\"text-align: right;\">\n",
       "      <th></th>\n",
       "      <th>CustomerID</th>\n",
       "      <th>Gender</th>\n",
       "      <th>Age</th>\n",
       "      <th>Annual Income (k$)</th>\n",
       "      <th>Spending Score (1-100)</th>\n",
       "    </tr>\n",
       "  </thead>\n",
       "  <tbody>\n",
       "    <tr>\n",
       "      <th>0</th>\n",
       "      <td>1</td>\n",
       "      <td>Male</td>\n",
       "      <td>19</td>\n",
       "      <td>15</td>\n",
       "      <td>39</td>\n",
       "    </tr>\n",
       "    <tr>\n",
       "      <th>1</th>\n",
       "      <td>2</td>\n",
       "      <td>Male</td>\n",
       "      <td>21</td>\n",
       "      <td>15</td>\n",
       "      <td>81</td>\n",
       "    </tr>\n",
       "    <tr>\n",
       "      <th>2</th>\n",
       "      <td>3</td>\n",
       "      <td>Female</td>\n",
       "      <td>20</td>\n",
       "      <td>16</td>\n",
       "      <td>6</td>\n",
       "    </tr>\n",
       "    <tr>\n",
       "      <th>3</th>\n",
       "      <td>4</td>\n",
       "      <td>Female</td>\n",
       "      <td>23</td>\n",
       "      <td>16</td>\n",
       "      <td>77</td>\n",
       "    </tr>\n",
       "    <tr>\n",
       "      <th>4</th>\n",
       "      <td>5</td>\n",
       "      <td>Female</td>\n",
       "      <td>31</td>\n",
       "      <td>17</td>\n",
       "      <td>40</td>\n",
       "    </tr>\n",
       "  </tbody>\n",
       "</table>\n",
       "</div>"
      ],
      "text/plain": [
       "   CustomerID  Gender  Age  Annual Income (k$)  Spending Score (1-100)\n",
       "0           1    Male   19                  15                      39\n",
       "1           2    Male   21                  15                      81\n",
       "2           3  Female   20                  16                       6\n",
       "3           4  Female   23                  16                      77\n",
       "4           5  Female   31                  17                      40"
      ]
     },
     "execution_count": 2,
     "metadata": {},
     "output_type": "execute_result"
    }
   ],
   "source": [
    "df = pd.read_csv(\"Mall_Customers.csv\")\n",
    "df.head()"
   ]
  },
  {
   "cell_type": "code",
   "execution_count": 3,
   "id": "9fc637d2",
   "metadata": {},
   "outputs": [
    {
     "data": {
      "text/html": [
       "<div>\n",
       "<style scoped>\n",
       "    .dataframe tbody tr th:only-of-type {\n",
       "        vertical-align: middle;\n",
       "    }\n",
       "\n",
       "    .dataframe tbody tr th {\n",
       "        vertical-align: top;\n",
       "    }\n",
       "\n",
       "    .dataframe thead th {\n",
       "        text-align: right;\n",
       "    }\n",
       "</style>\n",
       "<table border=\"1\" class=\"dataframe\">\n",
       "  <thead>\n",
       "    <tr style=\"text-align: right;\">\n",
       "      <th></th>\n",
       "      <th>Age</th>\n",
       "      <th>Annual Income (k$)</th>\n",
       "      <th>Spending Score (1-100)</th>\n",
       "    </tr>\n",
       "  </thead>\n",
       "  <tbody>\n",
       "    <tr>\n",
       "      <th>0</th>\n",
       "      <td>19</td>\n",
       "      <td>15</td>\n",
       "      <td>39</td>\n",
       "    </tr>\n",
       "    <tr>\n",
       "      <th>1</th>\n",
       "      <td>21</td>\n",
       "      <td>15</td>\n",
       "      <td>81</td>\n",
       "    </tr>\n",
       "    <tr>\n",
       "      <th>2</th>\n",
       "      <td>20</td>\n",
       "      <td>16</td>\n",
       "      <td>6</td>\n",
       "    </tr>\n",
       "    <tr>\n",
       "      <th>3</th>\n",
       "      <td>23</td>\n",
       "      <td>16</td>\n",
       "      <td>77</td>\n",
       "    </tr>\n",
       "    <tr>\n",
       "      <th>4</th>\n",
       "      <td>31</td>\n",
       "      <td>17</td>\n",
       "      <td>40</td>\n",
       "    </tr>\n",
       "  </tbody>\n",
       "</table>\n",
       "</div>"
      ],
      "text/plain": [
       "   Age  Annual Income (k$)  Spending Score (1-100)\n",
       "0   19                  15                      39\n",
       "1   21                  15                      81\n",
       "2   20                  16                       6\n",
       "3   23                  16                      77\n",
       "4   31                  17                      40"
      ]
     },
     "execution_count": 3,
     "metadata": {},
     "output_type": "execute_result"
    }
   ],
   "source": [
    "#Delete unnecessary columns 'Customer Id' and String object'Gender'\n",
    "df1 = df.drop(df.columns[[0,1]], axis =1)\n",
    "df1.head()"
   ]
  },
  {
   "cell_type": "code",
   "execution_count": 4,
   "id": "32017a70",
   "metadata": {},
   "outputs": [
    {
     "data": {
      "text/plain": [
       "CustomerID                0\n",
       "Gender                    0\n",
       "Age                       0\n",
       "Annual Income (k$)        0\n",
       "Spending Score (1-100)    0\n",
       "dtype: int64"
      ]
     },
     "execution_count": 4,
     "metadata": {},
     "output_type": "execute_result"
    }
   ],
   "source": [
    "#check if there is any empty value in a raw\n",
    "df.isnull().sum()"
   ]
  },
  {
   "cell_type": "code",
   "execution_count": 5,
   "id": "db905a87",
   "metadata": {
    "scrolled": true
   },
   "outputs": [
    {
     "data": {
      "image/png": "[encoded data removed]",
      "text/plain": [
       "<Figure size 432x288 with 1 Axes>"
      ]
     },
     "metadata": {
      "needs_background": "light"
     },
     "output_type": "display_data"
    }
   ],
   "source": [
    "from matplotlib import pyplot as plt\n",
    "\n",
    "# Extract two columns of interest from the dataframe to visualize\n",
    "x = df1.iloc[:, 1].tolist()\n",
    "y = df1.iloc[:, 2].tolist()\n",
    "\n",
    "# Create the plot\n",
    "plt.scatter(x, y)\n",
    "\n",
    "# Add labels and title\n",
    "plt.xlabel('Annual Income (k$)')\n",
    "plt.ylabel('Spending Score (1-100)')\n",
    "plt.title('Scatter Plot of Annual Income vs Spending Score ')\n",
    "\n",
    "# Show the plot\n",
    "plt.show()"
   ]
  },
  {
   "cell_type": "code",
   "execution_count": 6,
   "id": "30d87fe7",
   "metadata": {},
   "outputs": [],
   "source": [
    "#convert dataframe values as numpy array object\n",
    "df2 = df1.values"
   ]
  },
  {
   "cell_type": "code",
   "execution_count": 7,
   "id": "7d2fec6d",
   "metadata": {},
   "outputs": [],
   "source": [
    "import numpy as np\n",
    "import random\n",
    "\n",
    "# The clarans_algo function takes in a data set \"data\", the number of clusters \"cluster_count\", the number of neighbors to explore \"max_neighbors\" and the number of local minima to explore \"num_locals\".\n",
    "def clarans_algo(data, cluster_count, max_neighbors, num_locals):\n",
    "\n",
    "    # Initialize variables to keep track of the best clustering solution\n",
    "    best_medoids, best_assignments, best_distances, best_cost = None, None, None, None\n",
    "\n",
    "    for i in range(num_locals):\n",
    "        # Randomly select initial medoids from the data\n",
    "        current_medoids = np.random.permutation(np.arange(data.shape[0]))[0:cluster_count]\n",
    "        \n",
    "        # Assign the data to the initial medoids\n",
    "        distances, cost, assignments = assignment(data, current_medoids, None, cluster_count)\n",
    "        \n",
    "        j = 0\n",
    "        while j < max_neighbors:\n",
    "            # Randomly select a new medoid from the data\n",
    "            new_med = current_medoids.copy()\n",
    "            new_med[random.randint(0, cluster_count-1)] = random.choice(list(set(range(data.shape[0]))-set(current_medoids)))\n",
    "            \n",
    "            # Assign the data to the new medoids\n",
    "            new_dist, new_cost, new_assign = assignment(data, new_med, distances, cluster_count)\n",
    "            j += 1\n",
    "            \n",
    "            # Check if the new clustering solution is better\n",
    "            if new_cost < cost:\n",
    "                current_medoids, assignments, distances, cost = new_med, new_assign, new_dist, new_cost\n",
    "                j = 0\n",
    "                \n",
    "        # Check if the current clustering solution is the best so far\n",
    "        if best_cost is None or cost < best_cost:\n",
    "            best_medoids, best_assignments, best_distances, best_cost = current_medoids.copy(), assignments, distances, cost\n",
    "\n",
    "    return best_medoids, best_assignments, best_distances, best_cost\n",
    "\n",
    "def assignment(data, medoids, prev_dist, cluster_count):\n",
    "\n",
    "#     Assign the data to the closest medoids.\n",
    "\n",
    "    if prev_dist is None:\n",
    "        dist = np.zeros((data.shape[0], cluster_count))\n",
    "    else:\n",
    "        dist = prev_dist.copy()\n",
    "    \n",
    "    for i in range(cluster_count):\n",
    "        dist[:, i] = np.sum((data - data[medoids[i],:])**2, axis=1)\n",
    "    \n",
    "    cost = np.amin(dist, axis=1).sum()\n",
    "    assignments = np.argmin(dist, axis=1) \n",
    "    return dist, cost, assignments"
   ]
  },
  {
   "cell_type": "code",
   "execution_count": 8,
   "id": "61ac3d13",
   "metadata": {},
   "outputs": [],
   "source": [
    "#apply algorithm on dataset\n",
    "best_medoids, best_assignments, best_distances, best_cost = clarans_algo(data=df2, cluster_count=5, max_neighbors=10, num_locals=100)"
   ]
  },
  {
   "cell_type": "code",
   "execution_count": 9,
   "id": "c30bd4c4",
   "metadata": {},
   "outputs": [
    {
     "data": {
      "text/plain": [
       "array([175, 170,  17,  66,  36])"
      ]
     },
     "execution_count": 9,
     "metadata": {},
     "output_type": "execute_result"
    }
   ],
   "source": [
    "# indexes of best medoids \n",
    "best_medoids"
   ]
  },
  {
   "cell_type": "code",
   "execution_count": 10,
   "id": "dc1d62c4",
   "metadata": {},
   "outputs": [
    {
     "data": {
      "text/plain": [
       "[[30, 88, 86], [40, 87, 13], [20, 21, 66], [43, 48, 50], [42, 34, 17]]"
      ]
     },
     "execution_count": 10,
     "metadata": {},
     "output_type": "execute_result"
    }
   ],
   "source": [
    "# value of best medoids\n",
    "best_medoids_values = [df1.iloc[i, :].tolist() for i in best_medoids]\n",
    "best_medoids_values"
   ]
  },
  {
   "cell_type": "code",
   "execution_count": 11,
   "id": "f4449597",
   "metadata": {},
   "outputs": [
    {
     "data": {
      "text/plain": [
       "array([2, 2, 4, 2, 2, 2, 4, 2, 4, 2, 4, 2, 4, 2, 4, 2, 4, 2, 4, 2, 4, 2,\n",
       "       4, 2, 4, 2, 4, 2, 4, 2, 4, 2, 4, 2, 4, 2, 4, 2, 4, 2, 3, 2, 3, 3,\n",
       "       4, 2, 3, 3, 3, 3, 3, 3, 3, 3, 3, 3, 3, 3, 3, 3, 3, 3, 3, 3, 3, 3,\n",
       "       3, 3, 3, 3, 3, 3, 3, 3, 3, 3, 3, 3, 3, 3, 3, 3, 3, 3, 3, 3, 3, 3,\n",
       "       3, 3, 3, 3, 3, 3, 3, 3, 3, 3, 3, 3, 3, 3, 3, 3, 3, 3, 3, 3, 3, 3,\n",
       "       3, 3, 3, 3, 3, 3, 3, 3, 3, 3, 3, 3, 3, 0, 1, 0, 1, 0, 1, 0, 1, 0,\n",
       "       1, 0, 1, 0, 1, 0, 1, 0, 1, 0, 1, 0, 1, 0, 1, 0, 1, 0, 1, 0, 1, 0,\n",
       "       1, 0, 1, 0, 1, 0, 1, 0, 1, 0, 1, 0, 1, 0, 1, 0, 1, 0, 1, 0, 1, 0,\n",
       "       1, 0, 1, 0, 1, 0, 1, 0, 1, 0, 1, 0, 1, 0, 1, 0, 1, 0, 1, 0, 1, 0,\n",
       "       1, 0], dtype=int64)"
      ]
     },
     "execution_count": 11,
     "metadata": {},
     "output_type": "execute_result"
    }
   ],
   "source": [
    "# indexes of different clusters formed by algorithm\n",
    "best_assignments"
   ]
  },
  {
   "cell_type": "code",
   "execution_count": 12,
   "id": "1a70a9c7",
   "metadata": {},
   "outputs": [
    {
     "data": {
      "text/plain": [
       "87083.0"
      ]
     },
     "execution_count": 12,
     "metadata": {},
     "output_type": "execute_result"
    }
   ],
   "source": [
    "# best minimum cost\n",
    "best_cost"
   ]
  },
  {
   "cell_type": "code",
   "execution_count": 13,
   "id": "fef5c124",
   "metadata": {},
   "outputs": [
    {
     "data": {
      "image/png": "[encoded data removed]",
      "text/plain": [
       "<Figure size 432x288 with 1 Axes>"
      ]
     },
     "metadata": {
      "needs_background": "light"
     },
     "output_type": "display_data"
    }
   ],
   "source": [
    "# Plot the data points with different colors for each cluster\n",
    "for i in range(5):\n",
    "    cluster = df2[best_assignments == i]\n",
    "    plt.scatter(cluster[:, 1], cluster[:, 2], s=30, label=f'Cluster {i}')\n",
    "\n",
    "# Plot the medoids as black X symbols\n",
    "for i in range(5):\n",
    "    plt.scatter(df2[best_medoids[i], 1], df2[best_medoids[i], 2], marker='x', s=100, color='black')\n",
    "\n",
    "# Add labels and a title to the plot\n",
    "plt.xlabel('Annual Income (k$)')\n",
    "plt.ylabel('Spending Score (1-100)')\n",
    "plt.title('Scatter Plot of Annual Income vs Spending Score ')\n",
    "\n",
    "# Display the plot\n",
    "plt.show()"
   ]
  },
  {
   "cell_type": "code",
   "execution_count": null,
   "id": "ca4aadc2",
   "metadata": {},
   "outputs": [],
   "source": [
    "#Dataset Link:  https://www.kaggle.com/code/glushko/mall-customer-segmentation/data"
   ]
  }
 ],
 "metadata": {
  "kernelspec": {
   "display_name": "Python 3 (ipykernel)",
   "language": "python",
   "name": "python3"
  },
  "language_info": {
   "codemirror_mode": {
    "name": "ipython",
    "version": 3
   },
   "file_extension": ".py",
   "mimetype": "text/x-python",
   "name": "python",
   "nbconvert_exporter": "python",
   "pygments_lexer": "ipython3",
   "version": "3.9.7"
  }
 },
 "nbformat": 4,
 "nbformat_minor": 5
}
